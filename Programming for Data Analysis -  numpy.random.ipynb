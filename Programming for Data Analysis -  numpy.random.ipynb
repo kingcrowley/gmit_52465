{
 "cells": [
  {
   "cell_type": "markdown",
   "metadata": {
    "collapsed": true
   },
   "source": [
    "# Why random numbers?\n",
    "Random numbers have lots of uses apart from their obvious uses in games of chance (dice in craps etc). Random number generation through software is generally considered to always be pseudo random - not truely random as if the state of the psuedo random generator software at the time of generation is known then and the random numbers cane be reproduced. Hardware random number generators have been developed to counter this issue for applications that need true random numbers. For most appplications even in crytography a cryptographically secure pseudo-random number generatora pseudo random number is effective. Randomness is very important in Statistics for generating random samples to avoid biased selections from a population. \n",
    "\n",
    "## numpy.random\n",
    "NumPy's random number generator numpy.random<sup>https://docs.scipy.org/doc/numpy/reference/routines.random.html</sup> allows generation of random numbers of different types and fro singular to groups of random numbers (arrays). The code below generated a random integer between 1 and 100. \n",
    "\n",
    "Generating random numbers is useful itself and is an important part of the configuration and evaluation of machine learning algorithms. From randomly assigning weights in neural networks to randomly splitting data into training and test sets. \n",
    "\n",
    "NumPy implements the Mersenne Twister pseudorandom number generator, the default random number generator in Python also uses this method.  \n",
    "\n",
    "\n",
    "https://stackoverflow.com/questions/5836335/consistently-create-same-random-numpy-array/5837352#5837352\n",
    "https://www.cse.wustl.edu/~jain/books/ftp/ch5f_slides.pdf\n"
   ]
  },
  {
   "cell_type": "code",
   "execution_count": 1,
   "metadata": {},
   "outputs": [],
   "source": [
    "# Simple Random Data"
   ]
  },
  {
   "cell_type": "code",
   "execution_count": 2,
   "metadata": {},
   "outputs": [
    {
     "data": {
      "text/plain": [
       "56"
      ]
     },
     "execution_count": 2,
     "metadata": {},
     "output_type": "execute_result"
    }
   ],
   "source": [
    "import numpy as np\n",
    "np.random.randint(1,100)"
   ]
  },
  {
   "cell_type": "markdown",
   "metadata": {},
   "source": [
    "To generate a random number between 0 and 1, we can write this code or similar"
   ]
  },
  {
   "cell_type": "code",
   "execution_count": 3,
   "metadata": {},
   "outputs": [
    {
     "data": {
      "text/plain": [
       "0.5298265443892561"
      ]
     },
     "execution_count": 3,
     "metadata": {},
     "output_type": "execute_result"
    }
   ],
   "source": [
    "np.random.random()"
   ]
  },
  {
   "cell_type": "markdown",
   "metadata": {},
   "source": [
    "We can also generate multiple random numbers - for ease of reading here I have created a 1-dimensional array of 10 random numbers"
   ]
  },
  {
   "cell_type": "markdown",
   "metadata": {},
   "source": [
    "#  Permutation and Shuffle functions"
   ]
  },
  {
   "cell_type": "code",
   "execution_count": 4,
   "metadata": {},
   "outputs": [
    {
     "data": {
      "text/plain": [
       "array([[0.0371469 ],\n",
       "       [0.5277789 ],\n",
       "       [0.50231551],\n",
       "       [0.107976  ],\n",
       "       [0.71243524],\n",
       "       [0.79365658],\n",
       "       [0.7680845 ],\n",
       "       [0.49399618],\n",
       "       [0.25507881],\n",
       "       [0.59213494]])"
      ]
     },
     "execution_count": 4,
     "metadata": {},
     "output_type": "execute_result"
    }
   ],
   "source": [
    "p =np.random.rand(10,1)\n",
    "p\n"
   ]
  },
  {
   "cell_type": "markdown",
   "metadata": {},
   "source": [
    "NumPy also allows us to shuffle a sequence in-place by shuffling its contents. Arrays are only shuffled along the 1st axis of a multi-dimensional array<sup>2</sup>.\n",
    "[2] https://docs.scipy.org/doc/numpy-1.15.1/reference/generated/numpy.random.shuffle.html#numpy.random.shuffle"
   ]
  },
  {
   "cell_type": "code",
   "execution_count": 5,
   "metadata": {},
   "outputs": [
    {
     "data": {
      "text/plain": [
       "array([[0.49399618],\n",
       "       [0.107976  ],\n",
       "       [0.5277789 ],\n",
       "       [0.50231551],\n",
       "       [0.71243524],\n",
       "       [0.79365658],\n",
       "       [0.0371469 ],\n",
       "       [0.25507881],\n",
       "       [0.59213494],\n",
       "       [0.7680845 ]])"
      ]
     },
     "execution_count": 5,
     "metadata": {},
     "output_type": "execute_result"
    }
   ],
   "source": [
    "np.random.shuffle(p)\n",
    "p"
   ]
  },
  {
   "cell_type": "markdown",
   "metadata": {},
   "source": [
    "np.random.permutation has two differences from np.random.shuffle:\n",
    "\n",
    "if passed an array, it will return a shuffled copy of the array; np.random.shuffle shuffles the array inplace\n",
    "if passed an integer, it will return a shuffled range i.e. np.random.shuffle(np.arange(n))"
   ]
  },
  {
   "cell_type": "code",
   "execution_count": 6,
   "metadata": {},
   "outputs": [
    {
     "data": {
      "text/plain": [
       "array([[0.49399618],\n",
       "       [0.107976  ],\n",
       "       [0.5277789 ],\n",
       "       [0.50231551],\n",
       "       [0.71243524],\n",
       "       [0.79365658],\n",
       "       [0.0371469 ],\n",
       "       [0.25507881],\n",
       "       [0.59213494],\n",
       "       [0.7680845 ]])"
      ]
     },
     "execution_count": 6,
     "metadata": {},
     "output_type": "execute_result"
    }
   ],
   "source": [
    "p"
   ]
  },
  {
   "cell_type": "code",
   "execution_count": 7,
   "metadata": {},
   "outputs": [
    {
     "data": {
      "text/plain": [
       "array([[0.25507881],\n",
       "       [0.7680845 ],\n",
       "       [0.79365658],\n",
       "       [0.50231551],\n",
       "       [0.49399618],\n",
       "       [0.0371469 ],\n",
       "       [0.107976  ],\n",
       "       [0.59213494],\n",
       "       [0.5277789 ],\n",
       "       [0.71243524]])"
      ]
     },
     "execution_count": 7,
     "metadata": {},
     "output_type": "execute_result"
    }
   ],
   "source": [
    "np.random.permutation(p)"
   ]
  },
  {
   "cell_type": "raw",
   "metadata": {},
   "source": [
    "A permuted version of p , not p itself as shown below when I print out p and it is identical to the shuffled version of p from earlier."
   ]
  },
  {
   "cell_type": "code",
   "execution_count": 8,
   "metadata": {},
   "outputs": [
    {
     "data": {
      "text/plain": [
       "array([[0.49399618],\n",
       "       [0.107976  ],\n",
       "       [0.5277789 ],\n",
       "       [0.50231551],\n",
       "       [0.71243524],\n",
       "       [0.79365658],\n",
       "       [0.0371469 ],\n",
       "       [0.25507881],\n",
       "       [0.59213494],\n",
       "       [0.7680845 ]])"
      ]
     },
     "execution_count": 8,
     "metadata": {},
     "output_type": "execute_result"
    }
   ],
   "source": [
    "p"
   ]
  },
  {
   "cell_type": "code",
   "execution_count": 10,
   "metadata": {},
   "outputs": [
    {
     "data": {
      "image/png": "[encoded data removed]",
      "text/plain": [
       "<Figure size 432x288 with 1 Axes>"
      ]
     },
     "metadata": {
      "needs_background": "light"
     },
     "output_type": "display_data"
    }
   ],
   "source": [
    "import matplotlib.pyplot as plt\n",
    "import seaborn as sns\n",
    "d1 = np.random.randint(1, 6, 10000)\n",
    "\n",
    "sns.countplot(d1)\n",
    "plt.show()\n"
   ]
  },
  {
   "cell_type": "markdown",
   "metadata": {},
   "source": [
    "# Explain the use and purpose of at least five “Distributions” functions"
   ]
  },
  {
   "cell_type": "code",
   "execution_count": null,
   "metadata": {},
   "outputs": [],
   "source": []
  },
  {
   "cell_type": "markdown",
   "metadata": {},
   "source": [
    "# Explain the use of seeds in generating pseudorandom numbers."
   ]
  },
  {
   "cell_type": "code",
   "execution_count": null,
   "metadata": {},
   "outputs": [],
   "source": []
  }
 ],
 "metadata": {
  "kernelspec": {
   "display_name": "Python 3",
   "language": "python",
   "name": "python3"
  },
  "language_info": {
   "codemirror_mode": {
    "name": "ipython",
    "version": 3
   },
   "file_extension": ".py",
   "mimetype": "text/x-python",
   "name": "python",
   "nbconvert_exporter": "python",
   "pygments_lexer": "ipython3",
   "version": "3.6.7"
  }
 },
 "nbformat": 4,
 "nbformat_minor": 2
}
