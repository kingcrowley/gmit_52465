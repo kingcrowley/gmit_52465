{
 "cells": [
  {
   "cell_type": "markdown",
   "metadata": {
    "collapsed": true
   },
   "source": [
    "# Why random numbers?\n",
    "Random numbers have lots of uses apart from their obvious uses in games of chance (dice in craps etc). Random number generation through software is generally considered to always be pseudo random - not truely random as if the state of the psuedo random generator software at the time of generation is known then and the random numbers cane be reproduced. Hardware random number generators have been developed to counter this issue for applications that need true random numbers. For most appplications even in crytography a cryptographically secure pseudo-random number generatora pseudo random number is effective. Randomness is very important in Statistics for generating random samples to avoid biased selections from a population. \n",
    "\n",
    "## numpy.random\n",
    "NumPy's random number generator numpy.random<sup>https://docs.scipy.org/doc/numpy/reference/routines.random.html</sup> allows generation of random numbers of different types and fro singular to groups of random numbers (arrays). The code below generated a random integer between 1 and 100. \n",
    "\n",
    "Generating random numbers is useful itself and is an important part of the configuration and evaluation of machine learning algorithms. From randomly assigning weights in neural networks to randomly splitting data into training and test sets. \n",
    "\n",
    "NumPy implements the Mersenne Twister pseudorandom number generator, the default random number generator in Python also uses this method.  \n",
    "\n",
    "\n",
    "https://stackoverflow.com/questions/5836335/consistently-create-same-random-numpy-array/5837352#5837352\n",
    "https://www.cse.wustl.edu/~jain/books/ftp/ch5f_slides.pdf\n"
   ]
  },
  {
   "cell_type": "code",
   "execution_count": 1,
   "metadata": {},
   "outputs": [],
   "source": [
    "# Simple Random Data"
   ]
  },
  {
   "cell_type": "code",
   "execution_count": 2,
   "metadata": {},
   "outputs": [
    {
     "data": {
      "text/plain": [
       "56"
      ]
     },
     "execution_count": 2,
     "metadata": {},
     "output_type": "execute_result"
    }
   ],
   "source": [
    "import numpy as np\n",
    "np.random.randint(1,100)"
   ]
  },
  {
   "cell_type": "markdown",
   "metadata": {},
   "source": [
    "To generate a random number between 0 and 1, we can write this code or similar"
   ]
  },
  {
   "cell_type": "code",
   "execution_count": 3,
   "metadata": {},
   "outputs": [
    {
     "data": {
      "text/plain": [
       "0.5298265443892561"
      ]
     },
     "execution_count": 3,
     "metadata": {},
     "output_type": "execute_result"
    }
   ],
   "source": [
    "np.random.random()"
   ]
  },
  {
   "cell_type": "markdown",
   "metadata": {},
   "source": [
    "We can also generate multiple random numbers - for ease of reading here I have created a 1-dimensional array of 10 random numbers"
   ]
  },
  {
   "cell_type": "markdown",
   "metadata": {},
   "source": [
    "#  Permutation and Shuffle functions"
   ]
  },
  {
   "cell_type": "code",
   "execution_count": 4,
   "metadata": {},
   "outputs": [
    {
     "data": {
      "text/plain": [
       "array([[0.0371469 ],\n",
       "       [0.5277789 ],\n",
       "       [0.50231551],\n",
       "       [0.107976  ],\n",
       "       [0.71243524],\n",
       "       [0.79365658],\n",
       "       [0.7680845 ],\n",
       "       [0.49399618],\n",
       "       [0.25507881],\n",
       "       [0.59213494]])"
      ]
     },
     "execution_count": 4,
     "metadata": {},
     "output_type": "execute_result"
    }
   ],
   "source": [
    "p =np.random.rand(10,1)\n",
    "p\n"
   ]
  },
  {
   "cell_type": "markdown",
   "metadata": {},
   "source": [
    "NumPy also allows us to shuffle a sequence in-place by shuffling its contents. Arrays are only shuffled along the 1st axis of a multi-dimensional array<sup>2</sup>.\n",
    "[2] https://docs.scipy.org/doc/numpy-1.15.1/reference/generated/numpy.random.shuffle.html#numpy.random.shuffle"
   ]
  },
  {
   "cell_type": "code",
   "execution_count": 5,
   "metadata": {},
   "outputs": [
    {
     "data": {
      "text/plain": [
       "array([[0.49399618],\n",
       "       [0.107976  ],\n",
       "       [0.5277789 ],\n",
       "       [0.50231551],\n",
       "       [0.71243524],\n",
       "       [0.79365658],\n",
       "       [0.0371469 ],\n",
       "       [0.25507881],\n",
       "       [0.59213494],\n",
       "       [0.7680845 ]])"
      ]
     },
     "execution_count": 5,
     "metadata": {},
     "output_type": "execute_result"
    }
   ],
   "source": [
    "np.random.shuffle(p)\n",
    "p"
   ]
  },
  {
   "cell_type": "markdown",
   "metadata": {},
   "source": [
    "np.random.permutation has two differences from np.random.shuffle:\n",
    "\n",
    "if passed an array, it will return a shuffled copy of the array; np.random.shuffle shuffles the array inplace\n",
    "if passed an integer, it will return a shuffled range i.e. np.random.shuffle(np.arange(n))"
   ]
  },
  {
   "cell_type": "code",
   "execution_count": 6,
   "metadata": {},
   "outputs": [
    {
     "data": {
      "text/plain": [
       "array([[0.49399618],\n",
       "       [0.107976  ],\n",
       "       [0.5277789 ],\n",
       "       [0.50231551],\n",
       "       [0.71243524],\n",
       "       [0.79365658],\n",
       "       [0.0371469 ],\n",
       "       [0.25507881],\n",
       "       [0.59213494],\n",
       "       [0.7680845 ]])"
      ]
     },
     "execution_count": 6,
     "metadata": {},
     "output_type": "execute_result"
    }
   ],
   "source": [
    "p"
   ]
  },
  {
   "cell_type": "code",
   "execution_count": 7,
   "metadata": {},
   "outputs": [
    {
     "data": {
      "text/plain": [
       "array([[0.25507881],\n",
       "       [0.7680845 ],\n",
       "       [0.79365658],\n",
       "       [0.50231551],\n",
       "       [0.49399618],\n",
       "       [0.0371469 ],\n",
       "       [0.107976  ],\n",
       "       [0.59213494],\n",
       "       [0.5277789 ],\n",
       "       [0.71243524]])"
      ]
     },
     "execution_count": 7,
     "metadata": {},
     "output_type": "execute_result"
    }
   ],
   "source": [
    "np.random.permutation(p)"
   ]
  },
  {
   "cell_type": "raw",
   "metadata": {},
   "source": [
    "A permuted version of p , not p itself as shown below when I print out p and it is identical to the shuffled version of p from earlier."
   ]
  },
  {
   "cell_type": "code",
   "execution_count": 8,
   "metadata": {},
   "outputs": [
    {
     "data": {
      "text/plain": [
       "array([[0.49399618],\n",
       "       [0.107976  ],\n",
       "       [0.5277789 ],\n",
       "       [0.50231551],\n",
       "       [0.71243524],\n",
       "       [0.79365658],\n",
       "       [0.0371469 ],\n",
       "       [0.25507881],\n",
       "       [0.59213494],\n",
       "       [0.7680845 ]])"
      ]
     },
     "execution_count": 8,
     "metadata": {},
     "output_type": "execute_result"
    }
   ],
   "source": [
    "p"
   ]
  },
  {
   "cell_type": "markdown",
   "metadata": {},
   "source": [
    "# Simulating Dice Rolls\n",
    "The next few cells of code show simulations of dice rolls (showing a use of random number generation) but also visualising the difference between theorectial probabilty and experimental probability. Take for example the code that simulates rolling two dice 10 times to the code that simulating two dice ten million times and compare the outcomes. The in between code shows the "
   ]
  },
  {
   "cell_type": "code",
   "execution_count": 29,
   "metadata": {},
   "outputs": [
    {
     "data": {
      "image/png": "[encoded data removed]",
      "text/plain": [
       "<Figure size 432x288 with 1 Axes>"
      ]
     },
     "metadata": {
      "needs_background": "light"
     },
     "output_type": "display_data"
    }
   ],
   "source": [
    "import matplotlib.pyplot as plt\n",
    "import seaborn as sns\n",
    "d1 = np.random.randint(1, 7, 10)\n",
    "d2 = np.random.randint(1, 7, 10)\n",
    "total = d1 + d2\n",
    "sns.countplot(total)\n",
    "plt.show()"
   ]
  },
  {
   "cell_type": "code",
   "execution_count": 30,
   "metadata": {},
   "outputs": [
    {
     "data": {
      "image/png": "[encoded data removed]",
      "text/plain": [
       "<Figure size 432x288 with 1 Axes>"
      ]
     },
     "metadata": {
      "needs_background": "light"
     },
     "output_type": "display_data"
    }
   ],
   "source": [
    "d1 = np.random.randint(1, 7, 100)\n",
    "d2 = np.random.randint(1, 7, 100)\n",
    "total = d1 + d2\n",
    "sns.countplot(total)\n",
    "plt.show()"
   ]
  },
  {
   "cell_type": "code",
   "execution_count": 31,
   "metadata": {},
   "outputs": [
    {
     "data": {
      "image/png": "[encoded data removed]",
      "text/plain": [
       "<Figure size 432x288 with 1 Axes>"
      ]
     },
     "metadata": {
      "needs_background": "light"
     },
     "output_type": "display_data"
    }
   ],
   "source": [
    "d1 = np.random.randint(1, 7, 1000)\n",
    "d2 = np.random.randint(1, 7, 1000)\n",
    "total = d1 + d2\n",
    "sns.countplot(total)\n",
    "plt.show()"
   ]
  },
  {
   "cell_type": "code",
   "execution_count": 32,
   "metadata": {},
   "outputs": [
    {
     "data": {
      "image/png": "[encoded data removed]",
      "text/plain": [
       "<Figure size 432x288 with 1 Axes>"
      ]
     },
     "metadata": {
      "needs_background": "light"
     },
     "output_type": "display_data"
    }
   ],
   "source": [
    "d1 = np.random.randint(1, 7, 10000)\n",
    "d2 = np.random.randint(1, 7, 10000)\n",
    "total = d1 + d2\n",
    "sns.countplot(total)\n",
    "plt.show()"
   ]
  },
  {
   "cell_type": "code",
   "execution_count": 33,
   "metadata": {},
   "outputs": [
    {
     "data": {
      "image/png": "[encoded data removed]",
      "text/plain": [
       "<Figure size 432x288 with 1 Axes>"
      ]
     },
     "metadata": {
      "needs_background": "light"
     },
     "output_type": "display_data"
    }
   ],
   "source": [
    "d1 = np.random.randint(1, 7, 10000000)\n",
    "d2 = np.random.randint(1, 7, 10000000)\n",
    "total = d1 + d2\n",
    "sns.countplot(total)\n",
    "plt.show()"
   ]
  },
  {
   "cell_type": "markdown",
   "metadata": {},
   "source": [
    "# Explain the use and purpose of at least five “Distributions” functions"
   ]
  },
  {
   "cell_type": "markdown",
   "metadata": {},
   "source": [
    "# Uniform Distribution\n",
    "A uniform distribution, sometimes also known as a rectangular distribution, is a distribution that has constant probability. Perhaps one of the simplest and useful distribution is the uniform distribution. Samples are uniformly distributed over the half-open interval \\[low,high) (includes low, but excludes high). In other words, any value within the given interval is equally likely to be drawn by uniform<sup>3</sup>. \n",
    "[3] https://docs.scipy.org/doc/numpy/reference/generated/numpy.random.uniform.html#numpy.random.uniform"
   ]
  },
  {
   "cell_type": "code",
   "execution_count": 42,
   "metadata": {},
   "outputs": [
    {
     "data": {
      "image/png": "[encoded data removed]",
      "text/plain": [
       "<Figure size 432x288 with 1 Axes>"
      ]
     },
     "metadata": {
      "needs_background": "light"
     },
     "output_type": "display_data"
    }
   ],
   "source": [
    "s = np.random.uniform(-1,0,1000)\n",
    "count, bins, ignored = plt.hist(s, 15, density=True)\n",
    "plt.plot(bins, np.ones_like(bins), linewidth=2, color='r')\n",
    "plt.show()"
   ]
  },
  {
   "cell_type": "markdown",
   "metadata": {},
   "source": [
    "# Normal Distribution\n",
    "The probability density function of the normal distribution, first derived by De Moivre and 200 years later by both Gauss and Laplace independently, is often called the bell curve because of its characteristic shape. The normal distributions occurs often in nature. For example, it describes the commonly occurring distribution of samples influenced by a large number of tiny, random disturbances, each with its own unique distribution<sup>4</sup>. Shown below is two code example - one where the sample is too small to create a graph that visualises as a bell curve and the second with a larger sample that does visualise as a bell curve. \n",
    "\n",
    "A normal distribution has a bell-shaped density curve described by its mean μ and standard deviation σ. The density curve is symmetrical, centered about its mean, with its spread determined by its standard deviation showing that data near the mean are more frequent in occurrence than data far from the mean. Almost 68% of the data falls within a distance of one standard deviation from the mean on either side and 95% within two standard deviations. This is often called the 68–95–99.7 rule where 99.7 of the data falls within three standard deviations of the mean<sup>5</sup>.\n",
    "\n",
    "[4] https://docs.scipy.org/doc/numpy/reference/generated/numpy.random.normal.html#numpy.random.normal\n",
    "\n",
    "[5] https://www.datacamp.com/community/tutorials/probability-distributions-python"
   ]
  },
  {
   "cell_type": "code",
   "execution_count": 47,
   "metadata": {},
   "outputs": [
    {
     "data": {
      "image/png": "[encoded data removed]",
      "text/plain": [
       "<Figure size 432x288 with 1 Axes>"
      ]
     },
     "metadata": {
      "needs_background": "light"
     },
     "output_type": "display_data"
    }
   ],
   "source": [
    "mu, sigma = 0, 0.1 # mean and standard deviation\n",
    "s = np.random.normal(mu, sigma, 100)\n",
    "\n",
    "count, bins, ignored = plt.hist(s, 30, density=True)\n",
    "plt.plot(bins, 1/(sigma * np.sqrt(2 * np.pi)) * np.exp( - (bins - mu)**2 / (2 * sigma**2) ), linewidth=2, color='r')\n",
    "plt.show()"
   ]
  },
  {
   "cell_type": "code",
   "execution_count": 50,
   "metadata": {},
   "outputs": [
    {
     "data": {
      "image/png": "[encoded data removed]",
      "text/plain": [
       "<Figure size 432x288 with 1 Axes>"
      ]
     },
     "metadata": {
      "needs_background": "light"
     },
     "output_type": "display_data"
    }
   ],
   "source": [
    "mu, sigma = 0, 0.1 # mean and standard deviation\n",
    "s = np.random.normal(mu, sigma, 10000)\n",
    "\n",
    "count, bins, ignored = plt.hist(s, 30, density=True)\n",
    "plt.plot(bins, 1/(sigma * np.sqrt(2 * np.pi)) * np.exp( - (bins - mu)**2 / (2 * sigma**2) ), linewidth=2, color='g')\n",
    "plt.show()"
   ]
  },
  {
   "cell_type": "markdown",
   "metadata": {},
   "source": [
    "# Gamma Distribution\n",
    "The gamma distribution is a two-parameter family of continuous probability distributions. While it is used rarely in its raw form but other popularly used distributions like exponential, chi-squared, erlang distributions are special cases of the gamma distribution. The Gamma distribution is often used to model the times to failure of electronic components, and arises naturally in processes for which the waiting times between Poisson distributed events are relevant<sup>6</sup>.\n",
    "\n",
    "[6] https://docs.scipy.org/doc/numpy/reference/generated/numpy.random.gamma.html#numpy.random.gamma"
   ]
  },
  {
   "cell_type": "code",
   "execution_count": 51,
   "metadata": {},
   "outputs": [
    {
     "data": {
      "image/png": "[encoded data removed]",
      "text/plain": [
       "<Figure size 432x288 with 1 Axes>"
      ]
     },
     "metadata": {
      "needs_background": "light"
     },
     "output_type": "display_data"
    }
   ],
   "source": [
    "import scipy.special as sps\n",
    "shape, scale = 2., 2.  # mean=4, std=2*sqrt(2)\n",
    "s = np.random.gamma(shape, scale, 1000)\n",
    "count, bins, ignored = plt.hist(s, 50, density=True)\n",
    "y = bins**(shape-1)*(np.exp(-bins/scale) / (sps.gamma(shape)*scale**shape))\n",
    "plt.plot(bins, y, linewidth=2, color='r')\n",
    "plt.show()"
   ]
  },
  {
   "cell_type": "markdown",
   "metadata": {},
   "source": [
    "# Exponential Distribution\n",
    "The exponential distribution describes the time between events in a Poisson point process, i.e., a process in which events occur continuously and independently at a constant average rate. The exponential distribution is a continuous analogue of the geometric distribution. It describes many common situations, such as the size of raindrops measured over many rainstorms, or the time between page requests to Wikipedia<sup>7</sup>.\n",
    "\n",
    "[7] https://docs.scipy.org/doc/numpy/reference/generated/numpy.random.exponential.html#numpy.random.exponential"
   ]
  },
  {
   "cell_type": "code",
   "execution_count": 56,
   "metadata": {},
   "outputs": [
    {
     "data": {
      "image/png": "[encoded data removed]",
      "text/plain": [
       "<Figure size 432x288 with 1 Axes>"
      ]
     },
     "metadata": {
      "needs_background": "light"
     },
     "output_type": "display_data"
    }
   ],
   "source": [
    "scale = 5.\n",
    "s = np.random.exponential(scale, 1000)\n",
    "count, bins, ignored = plt.hist(s, 50, density=True)\n",
    "plt.plot(bins, y, linewidth=2, color='r')\n",
    "plt.show()"
   ]
  },
  {
   "cell_type": "markdown",
   "metadata": {},
   "source": [
    "# Explain the use of seeds in generating pseudorandom numbers."
   ]
  },
  {
   "cell_type": "code",
   "execution_count": null,
   "metadata": {},
   "outputs": [],
   "source": []
  }
 ],
 "metadata": {
  "kernelspec": {
   "display_name": "Python 3",
   "language": "python",
   "name": "python3"
  },
  "language_info": {
   "codemirror_mode": {
    "name": "ipython",
    "version": 3
   },
   "file_extension": ".py",
   "mimetype": "text/x-python",
   "name": "python",
   "nbconvert_exporter": "python",
   "pygments_lexer": "ipython3",
   "version": "3.6.7"
  }
 },
 "nbformat": 4,
 "nbformat_minor": 2
}
